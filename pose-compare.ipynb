{
 "cells": [
  {
   "cell_type": "code",
   "execution_count": null,
   "metadata": {
    "collapsed": true
   },
   "outputs": [],
   "source": [
    "import cv2\n",
    "import numpy as np\n",
    "import mediapipe as mp\n",
    "from sklearn.metrics.pairwise import cosine_similarity"
   ]
  },
  {
   "cell_type": "code",
   "execution_count": null,
   "outputs": [],
   "source": [
    "mp_pose = mp.solutions.pose\n",
    "mp_drawing = mp.solutions.drawing_utils\n",
    "mp_drawing_styles = mp.solutions.drawing_styles"
   ],
   "metadata": {
    "collapsed": false
   }
  },
  {
   "cell_type": "code",
   "execution_count": 18,
   "outputs": [],
   "source": [
    "cap1 = cv2.VideoCapture('videos/queen1.mp4')\n",
    "cap2 = cv2.VideoCapture('videos/queen2.mp4')\n",
    "\n",
    "# cap2 프레임 스킵\n",
    "skips = 492\n",
    "for _ in range(skips):\n",
    "    ret, frame = cap2.read()\n",
    "\n",
    "pose1 = mp_pose.Pose()\n",
    "pose2 = mp_pose.Pose()\n",
    "\n",
    "while True:\n",
    "    ret1, frame1 = cap1.read()\n",
    "    ret2, frame2 = cap2.read()\n",
    "    if not (ret1 and ret2):\n",
    "        break\n",
    "\n",
    "    # mediapipe pose estimate\n",
    "    results1 = pose1.process(cv2.cvtColor(frame1, cv2.COLOR_BGR2RGB))\n",
    "    results2 = pose2.process(cv2.cvtColor(frame2, cv2.COLOR_BGR2RGB))\n",
    "\n",
    "    # blank the frames\n",
    "    height1, width1, _ = frame1.shape\n",
    "    height2, width2, _ = frame2.shape\n",
    "    frame1 = np.zeros((height1, width1, 3), dtype=np.uint8)\n",
    "    frame2 = np.zeros((height2, width2, 3), dtype=np.uint8)\n",
    "\n",
    "    # draw skeletons\n",
    "    mp_drawing.draw_landmarks(\n",
    "            frame1,\n",
    "            results1.pose_landmarks,\n",
    "            mp.solutions.pose.POSE_CONNECTIONS,\n",
    "            landmark_drawing_spec=mp_drawing_styles.get_default_pose_landmarks_style())\n",
    "    mp_drawing.draw_landmarks(\n",
    "            frame2,\n",
    "            results2.pose_landmarks,\n",
    "            mp.solutions.pose.POSE_CONNECTIONS,\n",
    "            landmark_drawing_spec=mp_drawing_styles.get_default_pose_landmarks_style())\n",
    "\n",
    "    if results1.pose_landmarks and results2.pose_landmarks:\n",
    "        # make 2D array to 1D\n",
    "        features1 = np.zeros(66)\n",
    "        features2 = np.zeros(66)\n",
    "\n",
    "        for i, landmark in enumerate(results1.pose_landmarks.landmark):\n",
    "            features1[i*2] = landmark.x\n",
    "            features1[i*2+1] = landmark.y\n",
    "\n",
    "        for i, landmark in enumerate(results2.pose_landmarks.landmark):\n",
    "            features2[i*2] = landmark.x\n",
    "            features2[i*2+1] = landmark.y\n",
    "\n",
    "        features1 = [features1]\n",
    "        features2 = [features2]\n",
    "\n",
    "        # calculate similarity between two arrays of pose estimation\n",
    "        sim_score = cosine_similarity(features1, features2)[0][0]\n",
    "        if sim_score > 0.98:\n",
    "            cv2.putText(frame2, f\"{sim_score}\", (20, 700), cv2.FONT_HERSHEY_SIMPLEX, 1, (0, 255, 0), 2)\n",
    "        else:\n",
    "            cv2.putText(frame2, f\"{sim_score}\", (20, 700), cv2.FONT_HERSHEY_SIMPLEX, 1, (0, 0, 255), 2)\n",
    "    else:\n",
    "        cv2.putText(frame2, \"No frame\", (20, 700), cv2.FONT_HERSHEY_SIMPLEX, 1, (0, 0, 255), 2)\n",
    "\n",
    "    cv2.imshow('frame1', frame1)\n",
    "    cv2.imshow('frame2', frame2)\n",
    "\n",
    "    if cv2.waitKey(1) & 0xFF == ord('q'):\n",
    "        break\n",
    "\n",
    "cap1.release()\n",
    "cap2.release()\n",
    "cv2.destroyAllWindows()"
   ],
   "metadata": {
    "collapsed": false,
    "ExecuteTime": {
     "end_time": "2023-06-10T02:49:28.910680200Z",
     "start_time": "2023-06-10T02:48:50.710320200Z"
    }
   }
  },
  {
   "cell_type": "code",
   "execution_count": null,
   "outputs": [],
   "source": [],
   "metadata": {
    "collapsed": false
   }
  }
 ],
 "metadata": {
  "kernelspec": {
   "display_name": "Python 3",
   "language": "python",
   "name": "python3"
  },
  "language_info": {
   "codemirror_mode": {
    "name": "ipython",
    "version": 2
   },
   "file_extension": ".py",
   "mimetype": "text/x-python",
   "name": "python",
   "nbconvert_exporter": "python",
   "pygments_lexer": "ipython2",
   "version": "2.7.6"
  }
 },
 "nbformat": 4,
 "nbformat_minor": 0
}
